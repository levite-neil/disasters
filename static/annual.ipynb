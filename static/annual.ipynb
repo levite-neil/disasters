{
 "cells": [
  {
   "cell_type": "code",
   "execution_count": 9,
   "metadata": {},
   "outputs": [],
   "source": [
    "import pandas as pd\n",
    "import json\n",
    "import urllib.request"
   ]
  },
  {
   "cell_type": "code",
   "execution_count": 3,
   "metadata": {},
   "outputs": [],
   "source": [
    "FEMA = pd.read_csv('../FEMA.csv')"
   ]
  },
  {
   "cell_type": "code",
   "execution_count": 4,
   "metadata": {},
   "outputs": [
    {
     "data": {
      "text/html": [
       "<div>\n",
       "<style scoped>\n",
       "    .dataframe tbody tr th:only-of-type {\n",
       "        vertical-align: middle;\n",
       "    }\n",
       "\n",
       "    .dataframe tbody tr th {\n",
       "        vertical-align: top;\n",
       "    }\n",
       "\n",
       "    .dataframe thead th {\n",
       "        text-align: right;\n",
       "    }\n",
       "</style>\n",
       "<table border=\"1\" class=\"dataframe\">\n",
       "  <thead>\n",
       "    <tr style=\"text-align: right;\">\n",
       "      <th></th>\n",
       "      <th>Unnamed: 0</th>\n",
       "      <th>disasterNumber</th>\n",
       "      <th>disasterName</th>\n",
       "      <th>incidentBeginDate</th>\n",
       "      <th>incidentEndDate</th>\n",
       "      <th>stateCode</th>\n",
       "      <th>stateName</th>\n",
       "      <th>incidentType</th>\n",
       "      <th>beginYear</th>\n",
       "    </tr>\n",
       "  </thead>\n",
       "  <tbody>\n",
       "    <tr>\n",
       "      <th>0</th>\n",
       "      <td>0</td>\n",
       "      <td>4694</td>\n",
       "      <td>SEVERE WINTER STORM AND SNOWSTORM</td>\n",
       "      <td>2022-12-23T00:00:00.000Z</td>\n",
       "      <td>2022-12-28T00:00:00.000Z</td>\n",
       "      <td>NY</td>\n",
       "      <td>New York</td>\n",
       "      <td>Snowstorm</td>\n",
       "      <td>2022</td>\n",
       "    </tr>\n",
       "    <tr>\n",
       "      <th>1</th>\n",
       "      <td>1</td>\n",
       "      <td>4693</td>\n",
       "      <td>SEVERE STORM AND FLOODING</td>\n",
       "      <td>2022-12-22T00:00:00.000Z</td>\n",
       "      <td>2022-12-25T00:00:00.000Z</td>\n",
       "      <td>NH</td>\n",
       "      <td>New Hampshire</td>\n",
       "      <td>Severe Storm</td>\n",
       "      <td>2022</td>\n",
       "    </tr>\n",
       "    <tr>\n",
       "      <th>2</th>\n",
       "      <td>2</td>\n",
       "      <td>3592</td>\n",
       "      <td>SEVERE WINTER STORMS, FLOODING, LANDSLIDES, AN...</td>\n",
       "      <td>2023-03-09T00:00:00.000Z</td>\n",
       "      <td>NaN</td>\n",
       "      <td>CA</td>\n",
       "      <td>California</td>\n",
       "      <td>Flood</td>\n",
       "      <td>2023</td>\n",
       "    </tr>\n",
       "    <tr>\n",
       "      <th>3</th>\n",
       "      <td>3</td>\n",
       "      <td>4691</td>\n",
       "      <td>SEVERE WINTER STORM</td>\n",
       "      <td>2022-12-22T00:00:00.000Z</td>\n",
       "      <td>2022-12-27T00:00:00.000Z</td>\n",
       "      <td>TN</td>\n",
       "      <td>Tennessee</td>\n",
       "      <td>Winter Storm</td>\n",
       "      <td>2022</td>\n",
       "    </tr>\n",
       "    <tr>\n",
       "      <th>4</th>\n",
       "      <td>4</td>\n",
       "      <td>4692</td>\n",
       "      <td>EARTHQUAKE</td>\n",
       "      <td>2022-12-20T00:00:00.000Z</td>\n",
       "      <td>2023-01-01T00:00:00.000Z</td>\n",
       "      <td>CA</td>\n",
       "      <td>California</td>\n",
       "      <td>Earthquake</td>\n",
       "      <td>2022</td>\n",
       "    </tr>\n",
       "  </tbody>\n",
       "</table>\n",
       "</div>"
      ],
      "text/plain": [
       "   Unnamed: 0  disasterNumber  \\\n",
       "0           0            4694   \n",
       "1           1            4693   \n",
       "2           2            3592   \n",
       "3           3            4691   \n",
       "4           4            4692   \n",
       "\n",
       "                                        disasterName  \\\n",
       "0                  SEVERE WINTER STORM AND SNOWSTORM   \n",
       "1                          SEVERE STORM AND FLOODING   \n",
       "2  SEVERE WINTER STORMS, FLOODING, LANDSLIDES, AN...   \n",
       "3                                SEVERE WINTER STORM   \n",
       "4                                         EARTHQUAKE   \n",
       "\n",
       "          incidentBeginDate           incidentEndDate stateCode  \\\n",
       "0  2022-12-23T00:00:00.000Z  2022-12-28T00:00:00.000Z        NY   \n",
       "1  2022-12-22T00:00:00.000Z  2022-12-25T00:00:00.000Z        NH   \n",
       "2  2023-03-09T00:00:00.000Z                       NaN        CA   \n",
       "3  2022-12-22T00:00:00.000Z  2022-12-27T00:00:00.000Z        TN   \n",
       "4  2022-12-20T00:00:00.000Z  2023-01-01T00:00:00.000Z        CA   \n",
       "\n",
       "       stateName  incidentType beginYear  \n",
       "0       New York     Snowstorm      2022  \n",
       "1  New Hampshire  Severe Storm      2022  \n",
       "2     California         Flood      2023  \n",
       "3      Tennessee  Winter Storm      2022  \n",
       "4     California    Earthquake      2022  "
      ]
     },
     "execution_count": 4,
     "metadata": {},
     "output_type": "execute_result"
    }
   ],
   "source": [
    "FEMA['beginYear'] = FEMA.incidentBeginDate.str[0:4]\n",
    "FEMA.head()"
   ]
  },
  {
   "cell_type": "code",
   "execution_count": 5,
   "metadata": {},
   "outputs": [],
   "source": [
    "states = [\"Alabama\",\"Alaska\",\"Arizona\",\"Arkansas\",\"California\",\"Colorado\",\n",
    "  \"Connecticut\",\"Delaware\",\"Florida\",\"Georgia\",\"Hawaii\",\"Idaho\",\"Illinois\",\n",
    "  \"Indiana\",\"Iowa\",\"Kansas\",\"Kentucky\",\"Louisiana\",\"Maine\",\"Maryland\",\n",
    "  \"Massachusetts\",\"Michigan\",\"Minnesota\",\"Mississippi\",\"Missouri\",\"Montana\",\n",
    "  \"Nebraska\",\"Nevada\",\"New Hampshire\",\"New Jersey\",\"New Mexico\",\"New York\",\n",
    "  \"North Carolina\",\"North Dakota\",\"Ohio\",\"Oklahoma\",\"Oregon\",\"Pennsylvania\",\n",
    "  \"Rhode Island\",\"South Carolina\",\"South Dakota\",\"Tennessee\",\"Texas\",\"Utah\",\n",
    "  \"Vermont\",\"Virginia\",\"Washington\",\"West Virginia\",\"Wisconsin\",\"Wyoming\"]\n",
    "\n",
    "year = ['2016','2017','2018','2019','2020','2021','2022','2023']\n",
    "dfyears = ['dis2016','dis2017','dis2018','dis2019','dis2020','dis2021','dis2022','dis2023']\n",
    "\n",
    "properties2016 = []\n",
    "properties2017 = []\n",
    "properties2018 = []\n",
    "properties2019 = []\n",
    "properties2020 = []\n",
    "properties2021 = []\n",
    "properties2022 = []\n",
    "properties2023 = []\n",
    "\n",
    "\n",
    "for i in range(len(dfyears)):\n",
    "    dfyears[i] = FEMA.loc[FEMA['beginYear'] == year[i]]\n",
    "    disasters = [type for type in dfyears[i]['incidentType'].unique()]\n",
    "    properties = {}\n",
    "    feature = {'type':'Feature'}\n",
    "    for state in states:\n",
    "        properties = {'stateName':state}\n",
    "        for dis in disasters:\n",
    "            properties[dis] = 0\n",
    "        for j in dfyears[i].index:\n",
    "            if dfyears[i].loc[j,'stateName'] == state:\n",
    "                disaster = dfyears[i].loc[j,'incidentType']\n",
    "                properties[disaster]+=1\n",
    "        if year[i] == '2016':\n",
    "            properties2016.append(properties)\n",
    "        elif year[i] == '2017':\n",
    "            properties2017.append(properties)\n",
    "        elif year[i] == '2018':\n",
    "            properties2018.append(properties)\n",
    "        elif year[i] == '2019':\n",
    "            properties2019.append(properties)\n",
    "        elif year[i] == '2020':\n",
    "            properties2020.append(properties)\n",
    "        elif year[i] == '2021':\n",
    "            properties2021.append(properties)\n",
    "        elif year[i] == '2022':\n",
    "            properties2022.append(properties)\n",
    "        elif year[i] == '2023':\n",
    "            properties2023.append(properties)"
   ]
  },
  {
   "cell_type": "code",
   "execution_count": 6,
   "metadata": {},
   "outputs": [
    {
     "name": "stdout",
     "output_type": "stream",
     "text": [
      "[{'stateName': 'Alabama', 'Severe Storm': 0, 'Fire': 0, 'Flood': 0, 'Hurricane': 0, 'Mud/Landslide': 0, 'Tornado': 0, 'Snowstorm': 0}, {'stateName': 'Alaska', 'Severe Storm': 0, 'Fire': 0, 'Flood': 0, 'Hurricane': 0, 'Mud/Landslide': 0, 'Tornado': 0, 'Snowstorm': 0}, {'stateName': 'Arizona', 'Severe Storm': 0, 'Fire': 1, 'Flood': 0, 'Hurricane': 0, 'Mud/Landslide': 0, 'Tornado': 0, 'Snowstorm': 0}, {'stateName': 'Arkansas', 'Severe Storm': 1, 'Fire': 0, 'Flood': 0, 'Hurricane': 0, 'Mud/Landslide': 0, 'Tornado': 0, 'Snowstorm': 0}, {'stateName': 'California', 'Severe Storm': 0, 'Fire': 13, 'Flood': 0, 'Hurricane': 0, 'Mud/Landslide': 0, 'Tornado': 0, 'Snowstorm': 0}, {'stateName': 'Colorado', 'Severe Storm': 0, 'Fire': 3, 'Flood': 0, 'Hurricane': 0, 'Mud/Landslide': 0, 'Tornado': 0, 'Snowstorm': 0}, {'stateName': 'Connecticut', 'Severe Storm': 0, 'Fire': 0, 'Flood': 0, 'Hurricane': 0, 'Mud/Landslide': 0, 'Tornado': 0, 'Snowstorm': 0}, {'stateName': 'Delaware', 'Severe Storm': 0, 'Fire': 0, 'Flood': 0, 'Hurricane': 0, 'Mud/Landslide': 0, 'Tornado': 0, 'Snowstorm': 1}, {'stateName': 'Florida', 'Severe Storm': 0, 'Fire': 0, 'Flood': 0, 'Hurricane': 3, 'Mud/Landslide': 0, 'Tornado': 0, 'Snowstorm': 0}, {'stateName': 'Georgia', 'Severe Storm': 0, 'Fire': 1, 'Flood': 0, 'Hurricane': 2, 'Mud/Landslide': 0, 'Tornado': 0, 'Snowstorm': 0}, {'stateName': 'Hawaii', 'Severe Storm': 0, 'Fire': 0, 'Flood': 0, 'Hurricane': 0, 'Mud/Landslide': 1, 'Tornado': 0, 'Snowstorm': 0}, {'stateName': 'Idaho', 'Severe Storm': 0, 'Fire': 1, 'Flood': 0, 'Hurricane': 0, 'Mud/Landslide': 0, 'Tornado': 0, 'Snowstorm': 0}, {'stateName': 'Illinois', 'Severe Storm': 0, 'Fire': 0, 'Flood': 0, 'Hurricane': 0, 'Mud/Landslide': 0, 'Tornado': 0, 'Snowstorm': 0}, {'stateName': 'Indiana', 'Severe Storm': 0, 'Fire': 0, 'Flood': 0, 'Hurricane': 0, 'Mud/Landslide': 0, 'Tornado': 0, 'Snowstorm': 0}, {'stateName': 'Iowa', 'Severe Storm': 0, 'Fire': 0, 'Flood': 2, 'Hurricane': 0, 'Mud/Landslide': 0, 'Tornado': 0, 'Snowstorm': 0}, {'stateName': 'Kansas', 'Severe Storm': 1, 'Fire': 2, 'Flood': 0, 'Hurricane': 0, 'Mud/Landslide': 0, 'Tornado': 0, 'Snowstorm': 0}, {'stateName': 'Kentucky', 'Severe Storm': 1, 'Fire': 2, 'Flood': 0, 'Hurricane': 0, 'Mud/Landslide': 0, 'Tornado': 0, 'Snowstorm': 0}, {'stateName': 'Louisiana', 'Severe Storm': 0, 'Fire': 0, 'Flood': 2, 'Hurricane': 0, 'Mud/Landslide': 0, 'Tornado': 0, 'Snowstorm': 0}, {'stateName': 'Maine', 'Severe Storm': 0, 'Fire': 0, 'Flood': 0, 'Hurricane': 0, 'Mud/Landslide': 0, 'Tornado': 0, 'Snowstorm': 0}, {'stateName': 'Maryland', 'Severe Storm': 0, 'Fire': 0, 'Flood': 1, 'Hurricane': 0, 'Mud/Landslide': 0, 'Tornado': 0, 'Snowstorm': 1}, {'stateName': 'Massachusetts', 'Severe Storm': 0, 'Fire': 0, 'Flood': 0, 'Hurricane': 0, 'Mud/Landslide': 0, 'Tornado': 0, 'Snowstorm': 0}, {'stateName': 'Michigan', 'Severe Storm': 0, 'Fire': 0, 'Flood': 0, 'Hurricane': 0, 'Mud/Landslide': 0, 'Tornado': 0, 'Snowstorm': 0}, {'stateName': 'Minnesota', 'Severe Storm': 0, 'Fire': 0, 'Flood': 1, 'Hurricane': 0, 'Mud/Landslide': 0, 'Tornado': 0, 'Snowstorm': 0}, {'stateName': 'Mississippi', 'Severe Storm': 0, 'Fire': 0, 'Flood': 1, 'Hurricane': 0, 'Mud/Landslide': 0, 'Tornado': 0, 'Snowstorm': 0}, {'stateName': 'Missouri', 'Severe Storm': 0, 'Fire': 0, 'Flood': 0, 'Hurricane': 0, 'Mud/Landslide': 0, 'Tornado': 0, 'Snowstorm': 0}, {'stateName': 'Montana', 'Severe Storm': 1, 'Fire': 1, 'Flood': 0, 'Hurricane': 0, 'Mud/Landslide': 0, 'Tornado': 1, 'Snowstorm': 0}, {'stateName': 'Nebraska', 'Severe Storm': 0, 'Fire': 0, 'Flood': 0, 'Hurricane': 0, 'Mud/Landslide': 0, 'Tornado': 0, 'Snowstorm': 0}, {'stateName': 'Nevada', 'Severe Storm': 0, 'Fire': 4, 'Flood': 0, 'Hurricane': 0, 'Mud/Landslide': 0, 'Tornado': 0, 'Snowstorm': 0}, {'stateName': 'New Hampshire', 'Severe Storm': 0, 'Fire': 1, 'Flood': 0, 'Hurricane': 0, 'Mud/Landslide': 0, 'Tornado': 0, 'Snowstorm': 0}, {'stateName': 'New Jersey', 'Severe Storm': 1, 'Fire': 0, 'Flood': 0, 'Hurricane': 0, 'Mud/Landslide': 0, 'Tornado': 0, 'Snowstorm': 0}, {'stateName': 'New Mexico', 'Severe Storm': 0, 'Fire': 2, 'Flood': 0, 'Hurricane': 0, 'Mud/Landslide': 0, 'Tornado': 0, 'Snowstorm': 0}, {'stateName': 'New York', 'Severe Storm': 0, 'Fire': 0, 'Flood': 0, 'Hurricane': 0, 'Mud/Landslide': 0, 'Tornado': 0, 'Snowstorm': 0}, {'stateName': 'North Carolina', 'Severe Storm': 0, 'Fire': 2, 'Flood': 0, 'Hurricane': 2, 'Mud/Landslide': 0, 'Tornado': 0, 'Snowstorm': 0}, {'stateName': 'North Dakota', 'Severe Storm': 0, 'Fire': 0, 'Flood': 0, 'Hurricane': 0, 'Mud/Landslide': 0, 'Tornado': 0, 'Snowstorm': 0}, {'stateName': 'Ohio', 'Severe Storm': 0, 'Fire': 0, 'Flood': 0, 'Hurricane': 0, 'Mud/Landslide': 0, 'Tornado': 0, 'Snowstorm': 0}, {'stateName': 'Oklahoma', 'Severe Storm': 0, 'Fire': 3, 'Flood': 1, 'Hurricane': 0, 'Mud/Landslide': 0, 'Tornado': 0, 'Snowstorm': 0}, {'stateName': 'Oregon', 'Severe Storm': 1, 'Fire': 2, 'Flood': 0, 'Hurricane': 0, 'Mud/Landslide': 0, 'Tornado': 0, 'Snowstorm': 0}, {'stateName': 'Pennsylvania', 'Severe Storm': 0, 'Fire': 0, 'Flood': 1, 'Hurricane': 0, 'Mud/Landslide': 0, 'Tornado': 0, 'Snowstorm': 1}, {'stateName': 'Rhode Island', 'Severe Storm': 0, 'Fire': 0, 'Flood': 0, 'Hurricane': 0, 'Mud/Landslide': 0, 'Tornado': 0, 'Snowstorm': 0}, {'stateName': 'South Carolina', 'Severe Storm': 0, 'Fire': 1, 'Flood': 0, 'Hurricane': 2, 'Mud/Landslide': 0, 'Tornado': 0, 'Snowstorm': 0}, {'stateName': 'South Dakota', 'Severe Storm': 1, 'Fire': 0, 'Flood': 0, 'Hurricane': 0, 'Mud/Landslide': 0, 'Tornado': 0, 'Snowstorm': 0}, {'stateName': 'Tennessee', 'Severe Storm': 0, 'Fire': 5, 'Flood': 0, 'Hurricane': 0, 'Mud/Landslide': 0, 'Tornado': 0, 'Snowstorm': 0}, {'stateName': 'Texas', 'Severe Storm': 0, 'Fire': 0, 'Flood': 3, 'Hurricane': 0, 'Mud/Landslide': 0, 'Tornado': 0, 'Snowstorm': 0}, {'stateName': 'Utah', 'Severe Storm': 0, 'Fire': 1, 'Flood': 0, 'Hurricane': 0, 'Mud/Landslide': 0, 'Tornado': 0, 'Snowstorm': 0}, {'stateName': 'Vermont', 'Severe Storm': 0, 'Fire': 0, 'Flood': 0, 'Hurricane': 0, 'Mud/Landslide': 0, 'Tornado': 0, 'Snowstorm': 0}, {'stateName': 'Virginia', 'Severe Storm': 0, 'Fire': 0, 'Flood': 0, 'Hurricane': 1, 'Mud/Landslide': 0, 'Tornado': 0, 'Snowstorm': 1}, {'stateName': 'Washington', 'Severe Storm': 0, 'Fire': 4, 'Flood': 0, 'Hurricane': 0, 'Mud/Landslide': 0, 'Tornado': 0, 'Snowstorm': 0}, {'stateName': 'West Virginia', 'Severe Storm': 0, 'Fire': 0, 'Flood': 1, 'Hurricane': 0, 'Mud/Landslide': 0, 'Tornado': 0, 'Snowstorm': 0}, {'stateName': 'Wisconsin', 'Severe Storm': 1, 'Fire': 0, 'Flood': 1, 'Hurricane': 0, 'Mud/Landslide': 0, 'Tornado': 0, 'Snowstorm': 0}, {'stateName': 'Wyoming', 'Severe Storm': 0, 'Fire': 2, 'Flood': 0, 'Hurricane': 0, 'Mud/Landslide': 0, 'Tornado': 0, 'Snowstorm': 0}]\n"
     ]
    }
   ],
   "source": [
    "print (properties2016)"
   ]
  },
  {
   "cell_type": "code",
   "execution_count": 12,
   "metadata": {},
   "outputs": [],
   "source": [
    "propertyDict = {'2016':properties2016,'2017':properties2017,'2018':properties2018,'2019':properties2019,'2020':properties2020,'2021':properties2021,'2022':properties2022,'2023':properties2023}"
   ]
  },
  {
   "cell_type": "code",
   "execution_count": 14,
   "metadata": {},
   "outputs": [],
   "source": [
    "with open('annualData', 'w') as outfile:\n",
    "    json.dump(propertyDict, outfile)"
   ]
  }
 ],
 "metadata": {
  "kernelspec": {
   "display_name": "base",
   "language": "python",
   "name": "python3"
  },
  "language_info": {
   "codemirror_mode": {
    "name": "ipython",
    "version": 3
   },
   "file_extension": ".py",
   "mimetype": "text/x-python",
   "name": "python",
   "nbconvert_exporter": "python",
   "pygments_lexer": "ipython3",
   "version": "3.9.13"
  },
  "orig_nbformat": 4,
  "vscode": {
   "interpreter": {
    "hash": "e92f0651e1bbb2e27efce3de927ccdf28000cf046fc3f700ec1567bbdeafc72a"
   }
  }
 },
 "nbformat": 4,
 "nbformat_minor": 2
}
